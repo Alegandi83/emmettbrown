{
 "cells": [
  {
   "cell_type": "markdown",
   "metadata": {
    "application/vnd.databricks.v1+cell": {
     "cellMetadata": {},
     "inputWidgets": {},
     "nuid": "756672aa-372c-4fde-ac31-0f035042171f",
     "showTitle": false,
     "tableResultSettingsMap": {},
     "title": ""
    }
   },
   "source": [
    "## Sales Forecasting and Attribution\n",
    "Databricks Portal - <a href=\"https://www.databricks.com/solutions/accelerators/sales-forecasting\" target=\"_blank\" rel=\"noopener noreferrer\">Measure ad effectiveness with sales forecasting and attribution</a> \\\n",
    "\\\n",
    "Workspace Folder - [solution-accelerators / sa_sales_and_finance / campaign-effectiveness]($../../../../../../solution-accelerators/sa_sales_and_finance/campaign-effectiveness)"
   ]
  }
 ],
 "metadata": {
  "application/vnd.databricks.v1+notebook": {
   "computePreferences": null,
   "dashboards": [],
   "environmentMetadata": {
    "base_environment": "",
    "environment_version": "2"
   },
   "inputWidgetPreferences": null,
   "language": "python",
   "notebookMetadata": {
    "pythonIndentUnit": 4
   },
   "notebookName": "resources",
   "widgets": {}
  },
  "language_info": {
   "name": "python"
  }
 },
 "nbformat": 4,
 "nbformat_minor": 0
}
