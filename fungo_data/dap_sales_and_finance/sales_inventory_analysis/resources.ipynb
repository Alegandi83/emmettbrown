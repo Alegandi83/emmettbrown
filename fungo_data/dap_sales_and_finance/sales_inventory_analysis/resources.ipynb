{
 "cells": [
  {
   "cell_type": "markdown",
   "metadata": {
    "application/vnd.databricks.v1+cell": {
     "cellMetadata": {},
     "inputWidgets": {},
     "nuid": "bb6b561c-2bdb-4136-aab4-d6f8218d9faf",
     "showTitle": false,
     "tableResultSettingsMap": {},
     "title": ""
    }
   },
   "source": [
    "## Sales Inventory Analysis\n",
    "Medium Blog - <a href=\"https://medium.com/@infinitylearnings1201/75-days-of-retail-data-and-analytics-on-databricks-day-7-inventory-management-4794ef1b175f\" target=\"_blank\" rel=\"noopener noreferrer\">Inventory Management</a>\n",
    "\n",
    "Industry Demo Catalog Deck - <a href=\"https://docs.google.com/presentation/d/1fSKoezWagRpB4xNpNCjD7wI30Dqwxs3wHTewsYpbCwQ/edit?slide=id.g27ff506167f_14_1076#slide=id.g27ff506167f_14_1076\" target=\"_blank\" rel=\"noopener noreferrer\">Retail - Retail Sales & Inventory w/Crisp Data\n",
    "</a>"
   ]
  }
 ],
 "metadata": {
  "application/vnd.databricks.v1+notebook": {
   "computePreferences": null,
   "dashboards": [],
   "environmentMetadata": {
    "base_environment": "",
    "environment_version": "2"
   },
   "inputWidgetPreferences": null,
   "language": "python",
   "notebookMetadata": {
    "pythonIndentUnit": 4
   },
   "notebookName": "resources",
   "widgets": {}
  },
  "language_info": {
   "name": "python"
  }
 },
 "nbformat": 4,
 "nbformat_minor": 0
}
