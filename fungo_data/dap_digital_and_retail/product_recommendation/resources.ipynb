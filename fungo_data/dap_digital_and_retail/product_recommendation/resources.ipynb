{
 "cells": [
  {
   "cell_type": "markdown",
   "metadata": {
    "application/vnd.databricks.v1+cell": {
     "cellMetadata": {},
     "inputWidgets": {},
     "nuid": "23fda414-0483-4db6-8f3c-26be2a279bf2",
     "showTitle": false,
     "tableResultSettingsMap": {},
     "title": ""
    }
   },
   "source": [
    "## Product Recommendation\n",
    "Databricks Portal - <a href=\"https://www.databricks.com/solutions/accelerators/recommendation-engines\" target=\"_blank\" rel=\"noopener noreferrer\">Recommendation Engines for Personalization</a> \\\n",
    "\\\n",
    "Workspace Folder - [solution-accelerators / sa_digital_and_retail / image-based-recommendations]($../../../../../../solution-accelerators/sa_digital_and_retail/image-based-recommendations) \\\n",
    "\\\n",
    "Workspace Folder - [solution-accelerators / sa_digital_and_retail / market-basket-analysis]($../../../../../../solution-accelerators/sa_digital_and_retail/market-basket-analysis) \\\n",
    "\\\n",
    "Workspace Folder - [solution-accelerators / sa_digital_and_retail / wide-and-deep]($../../../../../../solution-accelerators/sa_digital_and_retail/wide-and-deep) \\\n",
    "\\\n",
    "Workspace Folder - [solution-accelerators / sa_digital_and_retail / als-recommender]($../../../../../../solution-accelerators/sa_digital_and_retail/als-recommender) \n",
    "\n",
    "Industry Demo Catalog Deck - <a href=\"https://docs.google.com/presentation/d/1fSKoezWagRpB4xNpNCjD7wI30Dqwxs3wHTewsYpbCwQ/edit?slide=id.g27ff506167f_11_1153#slide=id.g27ff506167f_11_1153\" target=\"_blank\" rel=\"noopener noreferrer\">RCG - Personalized Recommendations</a>\n",
    "\n",
    "## LLM Recommender\n",
    "Databricks Portal - <a href=\"https://www.databricks.com/solutions/accelerators/building-commonsense-product-recommendations-with-large-language-models\" target=\"_blank\" rel=\"noopener noreferrer\">Building Common Sense Product Recommendations With LLMs</a>\n",
    "\n",
    "Workspace Foder - <a href=\"https://notebooks.databricks.com/notebooks/RCG/llm_recommender/index.html#llm_recommender_1.html\" target=\"_blank\" rel=\"noopener noreferrer\">llm-recommender</a>"
   ]
  }
 ],
 "metadata": {
  "application/vnd.databricks.v1+notebook": {
   "computePreferences": null,
   "dashboards": [],
   "environmentMetadata": {
    "base_environment": "",
    "environment_version": "2"
   },
   "inputWidgetPreferences": null,
   "language": "python",
   "notebookMetadata": {
    "pythonIndentUnit": 4
   },
   "notebookName": "resources",
   "widgets": {}
  },
  "language_info": {
   "name": "python"
  }
 },
 "nbformat": 4,
 "nbformat_minor": 0
}
