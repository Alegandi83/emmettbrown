{
 "cells": [
  {
   "cell_type": "markdown",
   "metadata": {
    "application/vnd.databricks.v1+cell": {
     "cellMetadata": {},
     "inputWidgets": {},
     "nuid": "a49bcb7c-cdcc-4ba7-b1ca-a45c254a7baf",
     "showTitle": false,
     "tableResultSettingsMap": {},
     "title": ""
    }
   },
   "source": [
    "## Point of Sales Analytics\n",
    "Databricks Portal - <a href=\"https://www.databricks.com/solutions/accelerators/real-time-point-of-sale-analytics\" target=\"_blank\" rel=\"noopener noreferrer\">Real-Time Point-of-Sale Analytics</a> \\\n",
    "\\\n",
    "Workspace Folder - [solution-accelerators / sa_digital_and_retail / pos-dlt]($../../../../../../solution-accelerators/sa_digital_and_retail/pos-dlt)"
   ]
  }
 ],
 "metadata": {
  "application/vnd.databricks.v1+notebook": {
   "computePreferences": null,
   "dashboards": [],
   "environmentMetadata": {
    "base_environment": "",
    "environment_version": "2"
   },
   "inputWidgetPreferences": null,
   "language": "python",
   "notebookMetadata": {
    "pythonIndentUnit": 4
   },
   "notebookName": "resources",
   "widgets": {}
  },
  "language_info": {
   "name": "python"
  }
 },
 "nbformat": 4,
 "nbformat_minor": 0
}
