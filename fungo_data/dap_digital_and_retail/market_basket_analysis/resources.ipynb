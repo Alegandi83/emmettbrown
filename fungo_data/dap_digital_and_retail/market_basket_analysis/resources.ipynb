{
 "cells": [
  {
   "cell_type": "markdown",
   "metadata": {
    "application/vnd.databricks.v1+cell": {
     "cellMetadata": {},
     "inputWidgets": {},
     "nuid": "6273a39b-26df-4de3-afb0-68bdc831e863",
     "showTitle": false,
     "tableResultSettingsMap": {},
     "title": ""
    }
   },
   "source": [
    "## Market Basket Analysis\n",
    "Databricks Portal - <a href=\"https://www.databricks.com/blog/2018/09/18/simplify-market-basket-analysis-using-fp-growth-on-databricks.html\" target=\"_blank\" rel=\"noopener noreferrer\">Simplify Market Basket Analysis using FP-growth on Databricks</a> \\\n",
    "\\\n",
    "Workspace Folder - [solution-accelerators / sa_digital_and_retail / market-basket-analysis]($../../../../../../solution-accelerators/sa_digital_and_retail/market-basket-analysis) \\\n",
    "\\\n",
    "Medium Blog - <a href=\"https://medium.com/technology-hits/75-days-of-retail-data-and-analytics-on-databricks-day-11-market-basket-analysis-ed9a8dbb6138\" target=\"_blank\" rel=\"noopener noreferrer\">Market Basket Analysis</a>"
   ]
  }
 ],
 "metadata": {
  "application/vnd.databricks.v1+notebook": {
   "computePreferences": null,
   "dashboards": [],
   "environmentMetadata": {
    "base_environment": "",
    "environment_version": "2"
   },
   "inputWidgetPreferences": null,
   "language": "python",
   "notebookMetadata": {
    "pythonIndentUnit": 4
   },
   "notebookName": "resources",
   "widgets": {}
  },
  "language_info": {
   "name": "python"
  }
 },
 "nbformat": 4,
 "nbformat_minor": 0
}
