{
 "cells": [
  {
   "cell_type": "markdown",
   "metadata": {
    "application/vnd.databricks.v1+cell": {
     "cellMetadata": {},
     "inputWidgets": {},
     "nuid": "9194c7d3-2946-473f-8815-31c036965e3b",
     "showTitle": false,
     "tableResultSettingsMap": {},
     "title": ""
    }
   },
   "source": [
    "## Product Review Summarization\n",
    "Databricks Portal - <a href=\"https://www.databricks.com/solutions/accelerators/automating-product-review-summarization-with-large-language-models\" target=\"_blank\" rel=\"noopener noreferrer\">Automating Product Review Summarization With LLMs</a>\n",
    "\n",
    "Workspace Folder - [solution-accelerators / sa_digital_and_retail / review-summarisation]($../../../../../../solution-accelerators/sa_digital_and_retail/review-summarisation)\n",
    "\n",
    "Industry Demo Catalog Deck - <a href=\"https://docs.google.com/presentation/d/1fSKoezWagRpB4xNpNCjD7wI30Dqwxs3wHTewsYpbCwQ/edit?slide=id.g27ff506167f_11_1138#slide=id.g27ff506167f_11_1138\" target=\"_blank\" rel=\"noopener noreferrer\">RCG - Product Review Summarization</a>"
   ]
  }
 ],
 "metadata": {
  "application/vnd.databricks.v1+notebook": {
   "computePreferences": null,
   "dashboards": [],
   "environmentMetadata": {
    "base_environment": "",
    "environment_version": "2"
   },
   "inputWidgetPreferences": null,
   "language": "python",
   "notebookMetadata": {
    "pythonIndentUnit": 4
   },
   "notebookName": "resources",
   "widgets": {}
  },
  "language_info": {
   "name": "python"
  }
 },
 "nbformat": 4,
 "nbformat_minor": 0
}
