{
 "cells": [
  {
   "cell_type": "markdown",
   "metadata": {
    "application/vnd.databricks.v1+cell": {
     "cellMetadata": {},
     "inputWidgets": {},
     "nuid": "ab59d337-3784-4327-8093-41623c7f2103",
     "showTitle": false,
     "tableResultSettingsMap": {},
     "title": ""
    }
   },
   "source": [
    "## Generative Forecasting\n",
    "Industry Demo Catalog Deck - <a href=\"https://docs.google.com/presentation/d/1fSKoezWagRpB4xNpNCjD7wI30Dqwxs3wHTewsYpbCwQ/edit?slide=id.g28015a3accb_8_7#slide=id.g28015a3accb_8_7\" target=\"_blank\" rel=\"noopener noreferrer\">RCG - Generative Forecasting</a>"
   ]
  }
 ],
 "metadata": {
  "application/vnd.databricks.v1+notebook": {
   "computePreferences": null,
   "dashboards": [],
   "environmentMetadata": {
    "base_environment": "",
    "environment_version": "2"
   },
   "inputWidgetPreferences": null,
   "language": "python",
   "notebookMetadata": {
    "pythonIndentUnit": 4
   },
   "notebookName": "resources",
   "widgets": {}
  },
  "language_info": {
   "name": "python"
  }
 },
 "nbformat": 4,
 "nbformat_minor": 0
}
