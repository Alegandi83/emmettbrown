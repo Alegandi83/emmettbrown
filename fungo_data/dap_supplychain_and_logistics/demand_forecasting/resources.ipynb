{
 "cells": [
  {
   "cell_type": "markdown",
   "metadata": {
    "application/vnd.databricks.v1+cell": {
     "cellMetadata": {},
     "inputWidgets": {},
     "nuid": "84767cad-90cd-4407-af77-9b5ed57aaddf",
     "showTitle": false,
     "tableResultSettingsMap": {},
     "title": ""
    }
   },
   "source": [
    "## Demand Forecasting\n",
    "Databricks Portal - <a href=\"https://www.databricks.com/solutions/accelerators/demand-forecasting\" target=\"_blank\" rel=\"noopener noreferrer\">Build Demand Forecasts at Scale</a> \\\n",
    "\\\n",
    "Workspace Folder - [solution-accelerators / sa_supplychain_and_logistics / fine-grained-demand-forecasting]($../../../../../../solution-accelerators/sa_supplychain_and_logistics/fine-grained-demand-forecasting) \\\n",
    "\\\n",
    "Workspace Folder - [solution-accelerators / sa_supplychain_and_logistics / intermittent-forecasting]($../../../../../../solution-accelerators/sa_supplychain_and_logistics/intermittent-forecasting)\n",
    "\n",
    "Medium Blog - <a href=\"https://medium.com/@infinitylearnings1201/75-days-of-retail-data-and-analytics-on-databricks-day-8-demand-forecasting-for-retail-ed92c10468b0\" target=\"_blank\" rel=\"noopener noreferrer\">Demand Forecasting for Retail</a>"
   ]
  }
 ],
 "metadata": {
  "application/vnd.databricks.v1+notebook": {
   "computePreferences": null,
   "dashboards": [],
   "environmentMetadata": {
    "base_environment": "",
    "environment_version": "2"
   },
   "inputWidgetPreferences": null,
   "language": "python",
   "notebookMetadata": {
    "pythonIndentUnit": 4
   },
   "notebookName": "resources",
   "widgets": {}
  },
  "language_info": {
   "name": "python"
  }
 },
 "nbformat": 4,
 "nbformat_minor": 0
}
