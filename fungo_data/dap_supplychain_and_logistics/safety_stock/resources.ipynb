{
 "cells": [
  {
   "cell_type": "markdown",
   "metadata": {
    "application/vnd.databricks.v1+cell": {
     "cellMetadata": {},
     "inputWidgets": {},
     "nuid": "5b5622f5-9653-482f-9745-0d2944135ba2",
     "showTitle": false,
     "tableResultSettingsMap": {},
     "title": ""
    }
   },
   "source": [
    "## Safety Stock\n",
    "Databricks Portal - <a href=\"https://www.databricks.com/solutions/accelerators/safety-stock\" target=\"_blank\" rel=\"noopener noreferrer\">How to build: Safety stock</a> \\\n",
    "\\\n",
    "Workspace Folder - [solution-accelerators / sa_supplychain_and_logistics / safety-stock]($../../../../../../solution-accelerators/sa_supplychain_and_logistics/safety-stock)"
   ]
  }
 ],
 "metadata": {
  "application/vnd.databricks.v1+notebook": {
   "computePreferences": null,
   "dashboards": [],
   "environmentMetadata": {
    "base_environment": "",
    "environment_version": "2"
   },
   "inputWidgetPreferences": null,
   "language": "python",
   "notebookMetadata": {
    "pythonIndentUnit": 4
   },
   "notebookName": "resources",
   "widgets": {}
  },
  "language_info": {
   "name": "python"
  }
 },
 "nbformat": 4,
 "nbformat_minor": 0
}
