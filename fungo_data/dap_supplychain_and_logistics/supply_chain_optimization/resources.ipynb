{
 "cells": [
  {
   "cell_type": "markdown",
   "metadata": {
    "application/vnd.databricks.v1+cell": {
     "cellMetadata": {},
     "inputWidgets": {},
     "nuid": "16e66b6e-7561-43fe-9690-de6d17372d99",
     "showTitle": false,
     "tableResultSettingsMap": {},
     "title": ""
    }
   },
   "source": [
    "## Supply Chain Optimization\n",
    "Databricks Portal - <a href=\"https://www.databricks.com/solutions/accelerators/supply-chain-distribution-optimization\" target=\"_blank\" rel=\"noopener noreferrer\">Supply Chain Distribution Optimization</a> \\\n",
    "\\\n",
    "Workspace Folder - [solution-accelerators / sa_supplychain_and_logistics / supply-chain-optimization]($../../../../../../solution-accelerators/sa_supplychain_and_logistics/supply-chain-optimization)\n",
    "\n",
    "Industry Demo Catalog Deck - <a href=\"https://docs.google.com/presentation/d/1fSKoezWagRpB4xNpNCjD7wI30Dqwxs3wHTewsYpbCwQ/edit?slide=id.g2fb63d3795e_99_0#slide=id.g2fb63d3795e_99_0\" target=\"_blank\" rel=\"noopener noreferrer\">MFG - Supply Chain Optimization</a>"
   ]
  }
 ],
 "metadata": {
  "application/vnd.databricks.v1+notebook": {
   "computePreferences": null,
   "dashboards": [],
   "environmentMetadata": {
    "base_environment": "",
    "environment_version": "2"
   },
   "inputWidgetPreferences": null,
   "language": "python",
   "notebookMetadata": {
    "pythonIndentUnit": 4
   },
   "notebookName": "resources",
   "widgets": {}
  },
  "language_info": {
   "name": "python"
  }
 },
 "nbformat": 4,
 "nbformat_minor": 0
}
