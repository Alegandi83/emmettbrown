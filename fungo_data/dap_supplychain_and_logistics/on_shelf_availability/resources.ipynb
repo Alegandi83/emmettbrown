{
 "cells": [
  {
   "cell_type": "markdown",
   "metadata": {
    "application/vnd.databricks.v1+cell": {
     "cellMetadata": {},
     "inputWidgets": {},
     "nuid": "3961434f-3d7c-4552-8989-ec8217710e12",
     "showTitle": false,
     "tableResultSettingsMap": {},
     "title": ""
    }
   },
   "source": [
    "## On Shelf Availability\n",
    "Databricks Portal - <a href=\"https://www.databricks.com/solutions/accelerators/on-shelf-availability\" target=\"_blank\" rel=\"noopener noreferrer\">Improve On-Shelf Availability</a> \\\n",
    "\\\n",
    "Workspace Folder - [solution-accelerators / sa_supplychain_and_logistics / on-shelf-availability]($../../../../../../solution-accelerators/sa_supplychain_and_logistics/on-shelf-availability)"
   ]
  }
 ],
 "metadata": {
  "application/vnd.databricks.v1+notebook": {
   "computePreferences": null,
   "dashboards": [],
   "environmentMetadata": {
    "base_environment": "",
    "environment_version": "2"
   },
   "inputWidgetPreferences": null,
   "language": "python",
   "notebookMetadata": {
    "pythonIndentUnit": 4
   },
   "notebookName": "resources",
   "widgets": {}
  },
  "language_info": {
   "name": "python"
  }
 },
 "nbformat": 4,
 "nbformat_minor": 0
}
