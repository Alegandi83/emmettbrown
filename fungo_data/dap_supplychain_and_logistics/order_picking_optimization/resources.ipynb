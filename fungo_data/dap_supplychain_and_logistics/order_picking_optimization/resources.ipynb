{
 "cells": [
  {
   "cell_type": "markdown",
   "metadata": {
    "application/vnd.databricks.v1+cell": {
     "cellMetadata": {},
     "inputWidgets": {},
     "nuid": "f082caf3-1655-4020-970c-f55d703d0d6a",
     "showTitle": false,
     "tableResultSettingsMap": {},
     "title": ""
    }
   },
   "source": [
    "## Order Picking Optimization\n",
    "Databricks Portal - <a href=\"https://www.databricks.com/solutions/accelerators/order-picking-optimization\" target=\"_blank\" rel=\"noopener noreferrer\">Order Picking Optimization</a> \\\n",
    "\\\n",
    "Workspace Folder - [solution-accelerators / sa_supplychain_and_logistics / optimized-picking]($../../../../../../solution-accelerators/sa_supplychain_and_logistics/optimized-picking)"
   ]
  }
 ],
 "metadata": {
  "application/vnd.databricks.v1+notebook": {
   "computePreferences": null,
   "dashboards": [],
   "environmentMetadata": {
    "base_environment": "",
    "environment_version": "2"
   },
   "inputWidgetPreferences": null,
   "language": "python",
   "notebookMetadata": {
    "pythonIndentUnit": 4
   },
   "notebookName": "resources",
   "widgets": {}
  },
  "language_info": {
   "name": "python"
  }
 },
 "nbformat": 4,
 "nbformat_minor": 0
}
