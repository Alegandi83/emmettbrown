{
 "cells": [
  {
   "cell_type": "markdown",
   "metadata": {
    "application/vnd.databricks.v1+cell": {
     "cellMetadata": {},
     "inputWidgets": {},
     "nuid": "94ded3a6-ff25-4f33-bc49-4e124f3ba93b",
     "showTitle": false,
     "tableResultSettingsMap": {},
     "title": ""
    }
   },
   "source": [
    "## Scalable Route Generation\n",
    "Databricks Portal - <a href=\"https://www.databricks.com/solutions/accelerators/scalable-route-generation\" target=\"_blank\" rel=\"noopener noreferrer\">Scalable Route Generation</a> \\\n",
    "\\\n",
    "Workspace Folder - [solution-accelerators / sa_supplychain_and_logistics / routing]($../../../../../../solution-accelerators/sa_supplychain_and_logistics/routing)"
   ]
  }
 ],
 "metadata": {
  "application/vnd.databricks.v1+notebook": {
   "computePreferences": null,
   "dashboards": [],
   "environmentMetadata": {
    "base_environment": "",
    "environment_version": "2"
   },
   "inputWidgetPreferences": null,
   "language": "python",
   "notebookMetadata": {
    "pythonIndentUnit": 4
   },
   "notebookName": "resources",
   "widgets": {}
  },
  "language_info": {
   "name": "python"
  }
 },
 "nbformat": 4,
 "nbformat_minor": 0
}
