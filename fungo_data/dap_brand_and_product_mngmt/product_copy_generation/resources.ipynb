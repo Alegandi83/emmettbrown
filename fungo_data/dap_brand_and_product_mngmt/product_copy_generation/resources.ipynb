{
 "cells": [
  {
   "cell_type": "markdown",
   "metadata": {
    "application/vnd.databricks.v1+cell": {
     "cellMetadata": {},
     "inputWidgets": {},
     "nuid": "a57f494f-80d7-4d0b-8d66-6fd538a8f05c",
     "showTitle": false,
     "tableResultSettingsMap": {},
     "title": ""
    }
   },
   "source": [
    "## Product Copy Generation\n",
    "Databricks Portal - <a href=\"https://www.databricks.com/blog/scaling-product-copy-creation-generative-ai\" target=\"_blank\" rel=\"noopener noreferrer\">Scaling Product Copy Creation with Generative AI</a> \\\n",
    "\\\n",
    "Workspace Folder - <a href=\"https://databricks-industry-solutions.github.io/product_copy_genai/#product_copy_genai.html\" target=\"_blank\" rel=\"noopener noreferrer\">product-copy-genai</a>\n",
    "\n",
    "Industry Demo Catalog Deck - <a href=\"Industry Demo Catalog Deck - <a href=\"https://docs.google.com/presentation/d/1fSKoezWagRpB4xNpNCjD7wI30Dqwxs3wHTewsYpbCwQ/edit?slide=id.g27ff506167f_11_12#slide=id.g27ff506167f_11_12\" target=\"_blank\" rel=\"noopener noreferrer\">RCG - Product Copy Generation</a>"
   ]
  }
 ],
 "metadata": {
  "application/vnd.databricks.v1+notebook": {
   "computePreferences": null,
   "dashboards": [],
   "environmentMetadata": {
    "base_environment": "",
    "environment_version": "2"
   },
   "inputWidgetPreferences": null,
   "language": "python",
   "notebookMetadata": {
    "pythonIndentUnit": 4
   },
   "notebookName": "resources",
   "widgets": {}
  },
  "language_info": {
   "name": "python"
  }
 },
 "nbformat": 4,
 "nbformat_minor": 0
}
