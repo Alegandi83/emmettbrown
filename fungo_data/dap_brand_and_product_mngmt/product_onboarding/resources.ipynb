{
 "cells": [
  {
   "cell_type": "markdown",
   "metadata": {
    "application/vnd.databricks.v1+cell": {
     "cellMetadata": {},
     "inputWidgets": {},
     "nuid": "4d772744-d7f4-4a35-944f-81c36c00453c",
     "showTitle": false,
     "tableResultSettingsMap": {},
     "title": ""
    }
   },
   "source": [
    "## Product Onboarding\n",
    "Databricks Portal - <a href=\"https://www.databricks.com/solutions/accelerators/product-onboarding-gen-ai\" target=\"_blank\" rel=\"noopener noreferrer\">Simplifying Product Onboarding With Generative AI</a> \\\n",
    "\\\n",
    "Workspace Folder - <a href=\"https://databricks-industry-solutions.github.io/item-onboarding/#item-onboarding_1.html\" target=\"_blank\" rel=\"noopener noreferrer\">item-onboarding</a>"
   ]
  }
 ],
 "metadata": {
  "application/vnd.databricks.v1+notebook": {
   "computePreferences": null,
   "dashboards": [],
   "environmentMetadata": {
    "base_environment": "",
    "environment_version": "2"
   },
   "inputWidgetPreferences": null,
   "language": "python",
   "notebookMetadata": {
    "pythonIndentUnit": 4
   },
   "notebookName": "resources",
   "widgets": {}
  },
  "language_info": {
   "name": "python"
  }
 },
 "nbformat": 4,
 "nbformat_minor": 0
}
