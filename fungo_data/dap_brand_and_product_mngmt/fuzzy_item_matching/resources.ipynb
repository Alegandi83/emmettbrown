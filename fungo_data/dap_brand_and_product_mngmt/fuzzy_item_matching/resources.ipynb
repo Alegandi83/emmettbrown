{
 "cells": [
  {
   "cell_type": "markdown",
   "metadata": {
    "application/vnd.databricks.v1+cell": {
     "cellMetadata": {},
     "inputWidgets": {},
     "nuid": "efd1b919-0f7b-4f0c-a1bb-a4bc1596f50e",
     "showTitle": false,
     "tableResultSettingsMap": {},
     "title": ""
    }
   },
   "source": [
    "## Fuzzy Item Matching\n",
    "Databricks Portal - <a href=\"https://www.databricks.com/solutions/accelerators/product-matching-with-ml\" target=\"_blank\" rel=\"noopener noreferrer\">Fuzzy Item Matching</a> \\\n",
    "\\\n",
    "Workspace Folder - [solution-accelerators / sa_brand_and_product_management / fuzzy-item-matching]($../../../../../../solution-accelerators/sa_brand_and_product_management/fuzzy-item-matching)"
   ]
  }
 ],
 "metadata": {
  "application/vnd.databricks.v1+notebook": {
   "computePreferences": null,
   "dashboards": [],
   "environmentMetadata": {
    "base_environment": "",
    "environment_version": "2"
   },
   "inputWidgetPreferences": null,
   "language": "python",
   "notebookMetadata": {
    "pythonIndentUnit": 4
   },
   "notebookName": "resources",
   "widgets": {}
  },
  "language_info": {
   "name": "python"
  }
 },
 "nbformat": 4,
 "nbformat_minor": 0
}
