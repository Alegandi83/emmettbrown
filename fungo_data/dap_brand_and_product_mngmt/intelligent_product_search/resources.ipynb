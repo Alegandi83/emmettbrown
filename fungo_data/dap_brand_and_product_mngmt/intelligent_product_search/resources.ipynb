{
 "cells": [
  {
   "cell_type": "markdown",
   "metadata": {
    "application/vnd.databricks.v1+cell": {
     "cellMetadata": {},
     "inputWidgets": {},
     "nuid": "06992253-bd84-4d03-9fc5-97072da6d894",
     "showTitle": false,
     "tableResultSettingsMap": {},
     "title": ""
    }
   },
   "source": [
    "## Intelligent Product Search\n",
    "Databricks Portal - <a href=\"https://www.databricks.com/solutions/accelerators/enhancing-product-search-with-large-language-models\" target=\"_blank\" rel=\"noopener noreferrer\">Enhancing Product Search With Large Language Models (LLMs)</a> \\\n",
    "\\\n",
    "Workspace Folder - [solution-accelerators / sa_brand_and_product_management / product-search]($../../../../../../solution-accelerators/sa_brand_and_product_management/product-search)\n",
    "\n",
    "Industry Demo Catalog Deck - <a href=\"https://docs.google.com/presentation/d/1fSKoezWagRpB4xNpNCjD7wI30Dqwxs3wHTewsYpbCwQ/edit?slide=id.g27ff506167f_14_1891#slide=id.g27ff506167f_14_1891\" target=\"_blank\" rel=\"noopener noreferrer\">RCG - Product Search</a>"
   ]
  }
 ],
 "metadata": {
  "application/vnd.databricks.v1+notebook": {
   "computePreferences": null,
   "dashboards": [],
   "environmentMetadata": {
    "base_environment": "",
    "environment_version": "2"
   },
   "inputWidgetPreferences": null,
   "language": "python",
   "notebookMetadata": {
    "pythonIndentUnit": 4
   },
   "notebookName": "resources",
   "widgets": {}
  },
  "language_info": {
   "name": "python"
  }
 },
 "nbformat": 4,
 "nbformat_minor": 0
}
