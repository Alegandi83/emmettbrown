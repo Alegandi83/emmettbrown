{
 "cells": [
  {
   "cell_type": "markdown",
   "metadata": {
    "application/vnd.databricks.v1+cell": {
     "cellMetadata": {},
     "inputWidgets": {},
     "nuid": "172cffbf-f906-4989-9e34-a5eb9702fede",
     "showTitle": false,
     "tableResultSettingsMap": {},
     "title": ""
    }
   },
   "source": [
    "## Brand Aligned Images\n",
    "Databricks Portal - <a href=\"https://www.databricks.com/solutions/accelerators/creating-brand-aligned-images-using-gen-ai\" target=\"_blank\" rel=\"noopener noreferrer\">Creating Brand-Aligned Images Using Generative AI</a> \\\n",
    "\\\n",
    "Workspace Folder - <a href=\"https://databricks-industry-solutions.github.io/personalized_image_gen/#personalized_image_gen.html\" target=\"_blank\" rel=\"noopener noreferrer\">personalized-image-gen</a>\n",
    "\n",
    "Industry Demo Catalog Deck - <a href=\"https://docs.google.com/presentation/d/1fSKoezWagRpB4xNpNCjD7wI30Dqwxs3wHTewsYpbCwQ/edit?slide=id.g27ff506167f_11_1164#slide=id.g27ff506167f_11_1164\" target=\"_blank\" rel=\"noopener noreferrer\">RCG - Visual Ideation / Concept Design</a>"
   ]
  }
 ],
 "metadata": {
  "application/vnd.databricks.v1+notebook": {
   "computePreferences": null,
   "dashboards": [],
   "environmentMetadata": {
    "base_environment": "",
    "environment_version": "2"
   },
   "inputWidgetPreferences": null,
   "language": "python",
   "notebookMetadata": {
    "pythonIndentUnit": 4
   },
   "notebookName": "resources",
   "widgets": {}
  },
  "language_info": {
   "name": "python"
  }
 },
 "nbformat": 4,
 "nbformat_minor": 0
}
