{
 "cells": [
  {
   "cell_type": "markdown",
   "metadata": {
    "application/vnd.databricks.v1+cell": {
     "cellMetadata": {},
     "inputWidgets": {},
     "nuid": "bb73c93f-ffe9-461e-8dbd-a7a01e26bbfd",
     "showTitle": false,
     "tableResultSettingsMap": {},
     "title": ""
    }
   },
   "source": [
    "## Product Quality Inspection\n",
    "Databricks Portal - <a href=\"https://www.databricks.com/solutions/accelerators/product-quality-inspection\" target=\"_blank\" rel=\"noopener noreferrer\">How to build: Customer segmentation for personalization</a> \\\n",
    "\\\n",
    "Workspace Folder - <a href=\"https://d1r5llqwmkrl74.cloudfront.net/notebooks/MFG/cv-quality-inspection/index.html#cv-quality-inspection_1.html\" target=\"_blank\" rel=\"noopener noreferrer\">cv-quality-inspection</a>"
   ]
  }
 ],
 "metadata": {
  "application/vnd.databricks.v1+notebook": {
   "computePreferences": null,
   "dashboards": [],
   "environmentMetadata": {
    "base_environment": "",
    "environment_version": "2"
   },
   "inputWidgetPreferences": null,
   "language": "python",
   "notebookMetadata": {
    "pythonIndentUnit": 4
   },
   "notebookName": "resources",
   "widgets": {}
  },
  "language_info": {
   "name": "python"
  }
 },
 "nbformat": 4,
 "nbformat_minor": 0
}
