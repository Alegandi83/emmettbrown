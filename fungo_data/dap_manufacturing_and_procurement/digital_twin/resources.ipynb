{
 "cells": [
  {
   "cell_type": "markdown",
   "metadata": {
    "application/vnd.databricks.v1+cell": {
     "cellMetadata": {},
     "inputWidgets": {},
     "nuid": "9657f11d-f2bc-4321-bc1b-19515183a332",
     "showTitle": false,
     "tableResultSettingsMap": {},
     "title": ""
    }
   },
   "source": [
    "## Digital Twins\n",
    "Databricks Portal - <a href=\"https://www.databricks.com/solutions/accelerators/digital-twins\" target=\"_blank\" rel=\"noopener noreferrer\">Digital Twins</a> \\\n",
    "\\\n",
    "Workspace Folder - [solution-accelerators / sa_manufacturing_and_procurement / digital-twin]($../../../../../../solution-accelerators/sa_manufacturing_and_procurement/digital-twin)"
   ]
  }
 ],
 "metadata": {
  "application/vnd.databricks.v1+notebook": {
   "computePreferences": null,
   "dashboards": [],
   "environmentMetadata": {
    "base_environment": "",
    "environment_version": "2"
   },
   "inputWidgetPreferences": null,
   "language": "python",
   "notebookMetadata": {
    "pythonIndentUnit": 4
   },
   "notebookName": "resources",
   "widgets": {}
  },
  "language_info": {
   "name": "python"
  }
 },
 "nbformat": 4,
 "nbformat_minor": 0
}
