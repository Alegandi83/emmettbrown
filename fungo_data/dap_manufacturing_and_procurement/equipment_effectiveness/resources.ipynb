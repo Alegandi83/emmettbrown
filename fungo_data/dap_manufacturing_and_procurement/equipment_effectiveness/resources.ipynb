{
 "cells": [
  {
   "cell_type": "markdown",
   "metadata": {
    "application/vnd.databricks.v1+cell": {
     "cellMetadata": {},
     "inputWidgets": {},
     "nuid": "2213aca9-01ce-4a67-8a3b-2bab650bad00",
     "showTitle": false,
     "tableResultSettingsMap": {},
     "title": ""
    }
   },
   "source": [
    "## Equipment Effectiveness\n",
    "Databricks Portal - <a href=\"https://www.databricks.com/solutions/accelerators/overall-equipment-effectiveness\" target=\"_blank\" rel=\"noopener noreferrer\">Overall Equipment Effectiveness</a> \\\n",
    "\\\n",
    "Workspace Folder - [solution-accelerators / sa_manufacturing_and_procurement / factory-optimization]($../../../../../../solution-accelerators/sa_manufacturing_and_procurement/factory-optimization)"
   ]
  }
 ],
 "metadata": {
  "application/vnd.databricks.v1+notebook": {
   "computePreferences": null,
   "dashboards": [],
   "environmentMetadata": {
    "base_environment": "",
    "environment_version": "2"
   },
   "inputWidgetPreferences": null,
   "language": "python",
   "notebookMetadata": {
    "pythonIndentUnit": 4
   },
   "notebookName": "resources",
   "widgets": {}
  },
  "language_info": {
   "name": "python"
  }
 },
 "nbformat": 4,
 "nbformat_minor": 0
}
