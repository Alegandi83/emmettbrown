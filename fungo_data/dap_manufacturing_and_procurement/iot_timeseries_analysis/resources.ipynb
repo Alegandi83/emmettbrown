{
 "cells": [
  {
   "cell_type": "markdown",
   "metadata": {
    "application/vnd.databricks.v1+cell": {
     "cellMetadata": {},
     "inputWidgets": {},
     "nuid": "6c56405c-e16f-4151-9366-47080fe496e5",
     "showTitle": false,
     "tableResultSettingsMap": {},
     "title": ""
    }
   },
   "source": [
    "## IoT Timeseries Analysis\n",
    "Databricks Portal - <a href=\"https://www.databricks.com/solutions/accelerators/time-series-forecasting-genai\" target=\"_blank\" rel=\"noopener noreferrer\">Time Series Forecasting With Generative AI</a> \\\n",
    "\\\n",
    "Workspace Folder - <a href=\"https://databricks-industry-solutions.github.io/transformer_forecasting/#transformer_forecasting.html\" target=\"_blank\" rel=\"noopener noreferrer\">transformer-forecasting</a>\n",
    "\n",
    "Industry Demo Catalog Deck - <a href=\"https://docs.google.com/presentation/d/1fSKoezWagRpB4xNpNCjD7wI30Dqwxs3wHTewsYpbCwQ/edit?slide=id.g27ff506167f_14_880#slide=id.g27ff506167f_14_880\" target=\"_blank\" rel=\"noopener noreferrer\">MFG - IoT Time Series Analysis</a>"
   ]
  }
 ],
 "metadata": {
  "application/vnd.databricks.v1+notebook": {
   "computePreferences": null,
   "dashboards": [],
   "environmentMetadata": {
    "base_environment": "",
    "environment_version": "2"
   },
   "inputWidgetPreferences": null,
   "language": "python",
   "notebookMetadata": {
    "pythonIndentUnit": 4
   },
   "notebookName": "resources",
   "widgets": {}
  },
  "language_info": {
   "name": "python"
  }
 },
 "nbformat": 4,
 "nbformat_minor": 0
}
