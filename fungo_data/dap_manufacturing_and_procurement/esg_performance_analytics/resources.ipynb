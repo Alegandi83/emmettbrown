{
 "cells": [
  {
   "cell_type": "markdown",
   "metadata": {
    "application/vnd.databricks.v1+cell": {
     "cellMetadata": {},
     "inputWidgets": {},
     "nuid": "83a582d3-bb24-4cfb-b3bf-0f49cdf80b26",
     "showTitle": false,
     "tableResultSettingsMap": {},
     "title": ""
    }
   },
   "source": [
    "## ESG Performance Analytics\n",
    "Databricks Portal - <a href=\"https://www.databricks.com/solutions/accelerators/esg\" target=\"_blank\" rel=\"noopener noreferrer\">Analyze ESG Performance\n",
    "</a> \\\n",
    "\\\n",
    "Workspace Folder - [solution-accelerators / sa_manufacturing_and_procurement / esg-scoring]($../../../../../../solution-accelerators/sa_manufacturing_and_procurement/esg-scoring)"
   ]
  }
 ],
 "metadata": {
  "application/vnd.databricks.v1+notebook": {
   "computePreferences": null,
   "dashboards": [],
   "environmentMetadata": {
    "base_environment": "",
    "environment_version": "2"
   },
   "inputWidgetPreferences": null,
   "language": "python",
   "notebookMetadata": {
    "pythonIndentUnit": 4
   },
   "notebookName": "resources",
   "widgets": {}
  },
  "language_info": {
   "name": "python"
  }
 },
 "nbformat": 4,
 "nbformat_minor": 0
}
