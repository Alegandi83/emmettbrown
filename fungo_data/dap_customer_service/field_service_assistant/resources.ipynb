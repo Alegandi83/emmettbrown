{
 "cells": [
  {
   "cell_type": "markdown",
   "metadata": {
    "application/vnd.databricks.v1+cell": {
     "cellMetadata": {},
     "inputWidgets": {},
     "nuid": "2c841c1d-c695-48a5-bda6-45c50556e38c",
     "showTitle": false,
     "tableResultSettingsMap": {},
     "title": ""
    }
   },
   "source": [
    "### Field Service Assistant\n",
    "Industry Demo Catalog Deck - <a href=\"https://docs.google.com/presentation/d/1fSKoezWagRpB4xNpNCjD7wI30Dqwxs3wHTewsYpbCwQ/edit?slide=id.g27ff506167f_14_2698#slide=id.g27ff506167f_14_2698\" target=\"_blank\" rel=\"noopener noreferrer\">MFG - Field Service Assistant</a>"
   ]
  }
 ],
 "metadata": {
  "application/vnd.databricks.v1+notebook": {
   "computePreferences": null,
   "dashboards": [],
   "environmentMetadata": {
    "base_environment": "",
    "environment_version": "2"
   },
   "inputWidgetPreferences": null,
   "language": "python",
   "notebookMetadata": {
    "pythonIndentUnit": 4
   },
   "notebookName": "resources",
   "widgets": {}
  },
  "language_info": {
   "name": "python"
  }
 },
 "nbformat": 4,
 "nbformat_minor": 0
}
