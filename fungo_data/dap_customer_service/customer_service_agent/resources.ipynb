{
 "cells": [
  {
   "cell_type": "markdown",
   "metadata": {
    "application/vnd.databricks.v1+cell": {
     "cellMetadata": {},
     "inputWidgets": {},
     "nuid": "62ecee5b-56e5-4cea-9b79-4b6c0724eac4",
     "showTitle": false,
     "tableResultSettingsMap": {},
     "title": ""
    }
   },
   "source": [
    "# Customer Service Agent"
   ]
  },
  {
   "cell_type": "markdown",
   "metadata": {
    "application/vnd.databricks.v1+cell": {
     "cellMetadata": {},
     "inputWidgets": {},
     "nuid": "beb9d8f3-e6ba-48bd-b475-fe38cd221c71",
     "showTitle": false,
     "tableResultSettingsMap": {},
     "title": ""
    }
   },
   "source": [
    "## LLMs for Customer Service and Support\n",
    "Databricks Portal - <a href=\"https://www.databricks.com/solutions/accelerators/llms-customer-service-and-support\" target=\"_blank\" rel=\"noopener noreferrer\">LLMs for Customer Service and Support</a>\n",
    "\n",
    "Workspace Folder - [solution-accelerators / sa_customer_service / diy-llm-qa-bot]($../../../../../../solution-accelerators/sa_customer_service/diy-llm-qa-bot) \n",
    "\n",
    "## Building a Chatbot With Large Language Models (LLMs)\n",
    "Databricks Portal - <a href=\"https://www.databricks.com/solutions/accelerators/building-a-chatbot-with-large-language-models\" target=\"_blank\" rel=\"noopener noreferrer\">Building a Chatbot With Large Language Models (LLMs)</a>"
   ]
  }
 ],
 "metadata": {
  "application/vnd.databricks.v1+notebook": {
   "computePreferences": null,
   "dashboards": [],
   "environmentMetadata": {
    "base_environment": "",
    "environment_version": "2"
   },
   "inputWidgetPreferences": null,
   "language": "python",
   "notebookMetadata": {
    "pythonIndentUnit": 4
   },
   "notebookName": "resources",
   "widgets": {}
  },
  "language_info": {
   "name": "python"
  }
 },
 "nbformat": 4,
 "nbformat_minor": 0
}
