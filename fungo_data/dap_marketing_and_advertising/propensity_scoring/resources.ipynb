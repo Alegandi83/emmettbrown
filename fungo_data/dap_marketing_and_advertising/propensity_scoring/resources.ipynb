{
 "cells": [
  {
   "cell_type": "markdown",
   "metadata": {
    "application/vnd.databricks.v1+cell": {
     "cellMetadata": {},
     "inputWidgets": {},
     "nuid": "507ded4d-2fe2-463d-a504-c210bc17e9b9",
     "showTitle": false,
     "tableResultSettingsMap": {},
     "title": ""
    }
   },
   "source": [
    "## Propensity Scoring\n",
    "Databricks Portal - <a href=\"https://www.databricks.com/solutions/accelerators/propensity-scoring\" target=\"_blank\" rel=\"noopener noreferrer\">Propensity Scoring</a>\n",
    "\n",
    "Workspace Folder - [solution-accelerators / sa_marketing_and_advertising / propensity-workflows]($../../../../../../solution-accelerators/sa_marketing_and_advertising/propensity-workflows)\n",
    "\n",
    "Workspace Folder - [solution-accelerators / sa_marketing_and_advertising / clickstream-analytics]($../../../../../../solution-accelerators/sa_marketing_and_advertising/clickstream-analytics)"
   ]
  }
 ],
 "metadata": {
  "application/vnd.databricks.v1+notebook": {
   "computePreferences": null,
   "dashboards": [],
   "environmentMetadata": {
    "base_environment": "",
    "environment_version": "2"
   },
   "inputWidgetPreferences": null,
   "language": "python",
   "notebookMetadata": {
    "pythonIndentUnit": 4
   },
   "notebookName": "resources",
   "widgets": {}
  },
  "language_info": {
   "name": "python"
  }
 },
 "nbformat": 4,
 "nbformat_minor": 0
}
