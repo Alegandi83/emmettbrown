{
 "cells": [
  {
   "cell_type": "markdown",
   "metadata": {
    "application/vnd.databricks.v1+cell": {
     "cellMetadata": {},
     "inputWidgets": {},
     "nuid": "7a545115-96cc-4497-a6bb-54b10e2f51c7",
     "showTitle": false,
     "tableResultSettingsMap": {},
     "title": ""
    }
   },
   "source": [
    "# Customer Lifetime Value"
   ]
  },
  {
   "cell_type": "markdown",
   "metadata": {
    "application/vnd.databricks.v1+cell": {
     "cellMetadata": {},
     "inputWidgets": {},
     "nuid": "b686420b-226e-47ca-86fd-1bf709d678b0",
     "showTitle": false,
     "tableResultSettingsMap": {},
     "title": ""
    }
   },
   "source": [
    "### Survival Analysis for Churn and Lifetime Value\n",
    "Databricks Portal - <a href=\"https://www.databricks.com/solutions/accelerators/survival-analysis-for-churn-and-lifetime-value\" target=\"_blank\" rel=\"noopener noreferrer\">Survival Analysis for Churn and Lifetime Value</a> \n",
    "\n",
    "Workspace Folder - [solution-accelerators / sa_marketing_and_advertising / survival-analysis]($../../../../../../solution-accelerators/sa_marketing_and_advertising/survival-analysis) \n",
    "\n",
    "### Analyze Customer Lifetime Value\n",
    "Databricks Portal - <a href=\"https://www.databricks.com/solutions/accelerators/customer-lifetime-value\" target=\"_blank\" rel=\"noopener noreferrer\">Analyze Customer Lifetime Value</a> \n",
    "\n",
    "Workspace Folder - [solution-accelerators / sa_marketing_and_advertising / customer-lifetime-value]($../../../../../../solution-accelerators/sa_marketing_and_advertising/customer-lifetime-value)\n",
    "\n",
    "Medium Blog - <a href=\"https://medium.com/@infinitylearnings1201/75-days-of-retail-data-and-analytics-on-databricks-day-10-customer-lifetime-value-clv-b49e4858317c\" target=\"_blank\" rel=\"noopener noreferrer\">Customer Lifetime Value (CLV)</a> \n"
   ]
  }
 ],
 "metadata": {
  "application/vnd.databricks.v1+notebook": {
   "computePreferences": null,
   "dashboards": [],
   "environmentMetadata": {
    "base_environment": "",
    "environment_version": "2"
   },
   "inputWidgetPreferences": null,
   "language": "python",
   "notebookMetadata": {
    "pythonIndentUnit": 4
   },
   "notebookName": "resources",
   "widgets": {}
  },
  "language_info": {
   "name": "python"
  }
 },
 "nbformat": 4,
 "nbformat_minor": 0
}
