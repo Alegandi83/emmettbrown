{
 "cells": [
  {
   "cell_type": "markdown",
   "metadata": {
    "application/vnd.databricks.v1+cell": {
     "cellMetadata": {},
     "inputWidgets": {},
     "nuid": "9c220e1c-5a3d-4df2-b1e8-c0cb9641f51d",
     "showTitle": false,
     "tableResultSettingsMap": {},
     "title": ""
    }
   },
   "source": [
    "## Customer Entity Resolution\n",
    "Databricks Portal - <a href=\"https://www.databricks.com/solutions/accelerators/customer-entity-resolution\" target=\"_blank\" rel=\"noopener noreferrer\">Customer Entity Resolution</a> \\\n",
    "\\\n",
    "Workspace Folder - [solution-accelerators / sa_marketing_and_advertising / customer-er]($../../../../../../solution-accelerators/sa_marketing_and_advertising/customer-er)"
   ]
  }
 ],
 "metadata": {
  "application/vnd.databricks.v1+notebook": {
   "computePreferences": null,
   "dashboards": [],
   "environmentMetadata": {
    "base_environment": "",
    "environment_version": "2"
   },
   "inputWidgetPreferences": null,
   "language": "python",
   "notebookMetadata": {
    "pythonIndentUnit": 4
   },
   "notebookName": "resources",
   "widgets": {}
  },
  "language_info": {
   "name": "python"
  }
 },
 "nbformat": 4,
 "nbformat_minor": 0
}
