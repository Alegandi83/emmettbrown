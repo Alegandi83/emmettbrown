{
 "cells": [
  {
   "cell_type": "markdown",
   "metadata": {
    "application/vnd.databricks.v1+cell": {
     "cellMetadata": {},
     "inputWidgets": {},
     "nuid": "d28668ee-9663-41ab-93d1-c456d84b8fee",
     "showTitle": false,
     "tableResultSettingsMap": {},
     "title": ""
    }
   },
   "source": [
    "### Omnichannel Customer 360\n",
    "Medium Blog - <a href=\"https://medium.com/@infinitylearnings1201/75-days-of-retail-data-and-analytics-on-databricks-day-5-omnichannel-retail-90fc13e6a828\" target=\"_blank\" rel=\"noopener noreferrer\">Omnichannel Retail</a> \n"
   ]
  }
 ],
 "metadata": {
  "application/vnd.databricks.v1+notebook": {
   "computePreferences": null,
   "dashboards": [],
   "environmentMetadata": {
    "base_environment": "",
    "environment_version": "2"
   },
   "inputWidgetPreferences": null,
   "language": "python",
   "notebookMetadata": {
    "pythonIndentUnit": 4
   },
   "notebookName": "resources",
   "widgets": {}
  },
  "language_info": {
   "name": "python"
  }
 },
 "nbformat": 4,
 "nbformat_minor": 0
}
