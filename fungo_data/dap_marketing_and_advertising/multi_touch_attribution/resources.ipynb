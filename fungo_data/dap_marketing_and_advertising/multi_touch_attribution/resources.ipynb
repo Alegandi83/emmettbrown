{
 "cells": [
  {
   "cell_type": "markdown",
   "metadata": {
    "application/vnd.databricks.v1+cell": {
     "cellMetadata": {},
     "inputWidgets": {},
     "nuid": "b7fb747c-865c-4199-b08c-c9f99db944d9",
     "showTitle": false,
     "tableResultSettingsMap": {},
     "title": ""
    }
   },
   "source": [
    "## Customer Insights Segmentation\n",
    "Databricks Portal - <a href=\"https://www.databricks.com/solutions/accelerators/multi-touch-attribution\" target=\"_blank\" rel=\"noopener noreferrer\">Measure Ad Effectiveness With Multi-Touch Attribution</a>\n",
    "\n",
    "Workspace Folder - [solution-accelerators / sa_marketing_and_advertising / multi-touch-attribution]($../../../../../../solution-accelerators/sa_marketing_and_advertising/multi-touch-attribution)"
   ]
  }
 ],
 "metadata": {
  "application/vnd.databricks.v1+notebook": {
   "computePreferences": null,
   "dashboards": [],
   "environmentMetadata": {
    "base_environment": "",
    "environment_version": "2"
   },
   "inputWidgetPreferences": null,
   "language": "python",
   "notebookMetadata": {
    "pythonIndentUnit": 4
   },
   "notebookName": "resources",
   "widgets": {}
  },
  "language_info": {
   "name": "python"
  }
 },
 "nbformat": 4,
 "nbformat_minor": 0
}
