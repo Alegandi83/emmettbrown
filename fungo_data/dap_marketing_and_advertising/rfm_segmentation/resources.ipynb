{
 "cells": [
  {
   "cell_type": "markdown",
   "metadata": {
    "application/vnd.databricks.v1+cell": {
     "cellMetadata": {},
     "inputWidgets": {},
     "nuid": "a4d52a63-8e12-456b-89bf-84024f6f32b7",
     "showTitle": false,
     "tableResultSettingsMap": {},
     "title": ""
    }
   },
   "source": [
    "## RFM Segmentation\n",
    "Databricks Portal - <a href=\"https://www.databricks.com/solutions/accelerators/rfm-segmentation\" target=\"_blank\" rel=\"noopener noreferrer\">Recency, Frequency and Monetary (RFM) Segmentation</a> \\\n",
    "\\\n",
    "Workspace Folder - [solution-accelerators / sa_marketing_and_advertising / rfm-segmentation]($../../../../../../solution-accelerators/sa_marketing_and_advertising/rfm-segmentation)"
   ]
  }
 ],
 "metadata": {
  "application/vnd.databricks.v1+notebook": {
   "computePreferences": null,
   "dashboards": [],
   "environmentMetadata": {
    "base_environment": "",
    "environment_version": "2"
   },
   "inputWidgetPreferences": null,
   "language": "python",
   "notebookMetadata": {
    "pythonIndentUnit": 4
   },
   "notebookName": "resources",
   "widgets": {}
  },
  "language_info": {
   "name": "python"
  }
 },
 "nbformat": 4,
 "nbformat_minor": 0
}
