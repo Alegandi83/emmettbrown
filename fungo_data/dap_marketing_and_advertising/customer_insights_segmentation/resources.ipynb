{
 "cells": [
  {
   "cell_type": "markdown",
   "metadata": {
    "application/vnd.databricks.v1+cell": {
     "cellMetadata": {},
     "inputWidgets": {},
     "nuid": "633d7d08-2d20-4d5c-9ff7-f74b5e9c0826",
     "showTitle": false,
     "tableResultSettingsMap": {},
     "title": ""
    }
   },
   "source": [
    "## Customer Insights Segmentation\n",
    "Databricks Portal - <a href=\"https://www.databricks.com/solutions/accelerators/customer-segmentation\" target=\"_blank\" rel=\"noopener noreferrer\">How to build: Customer segmentation for personalization</a> \\\n",
    "\\\n",
    "Workspace Folder - [solution-accelerators / sa_marketing_and_advertising / segmentation]($../../../../../../solution-accelerators/sa_marketing_and_advertising/segmentation) \\\n",
    "\\\n",
    "Medium Blog - <a href=\"https://medium.com/@infinitylearnings1201/75-days-of-retail-data-and-analytics-on-databricks-day-4-understanding-customer-segmentation-in-a544ab234e74\" target=\"_blank\" rel=\"noopener noreferrer\">Understanding Customer Segmentation in Retail</a>"
   ]
  }
 ],
 "metadata": {
  "application/vnd.databricks.v1+notebook": {
   "computePreferences": null,
   "dashboards": [],
   "environmentMetadata": {
    "base_environment": "",
    "environment_version": "2"
   },
   "inputWidgetPreferences": null,
   "language": "python",
   "notebookMetadata": {
    "pythonIndentUnit": 4
   },
   "notebookName": "resources",
   "widgets": {}
  },
  "language_info": {
   "name": "python"
  }
 },
 "nbformat": 4,
 "nbformat_minor": 0
}
