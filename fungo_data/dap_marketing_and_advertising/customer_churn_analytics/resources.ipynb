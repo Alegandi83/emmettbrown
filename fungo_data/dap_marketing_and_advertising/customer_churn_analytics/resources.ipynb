{
 "cells": [
  {
   "cell_type": "markdown",
   "metadata": {
    "application/vnd.databricks.v1+cell": {
     "cellMetadata": {},
     "inputWidgets": {},
     "nuid": "469770ac-ab67-42e3-9eb5-c6bab16c60c7",
     "showTitle": false,
     "tableResultSettingsMap": {},
     "title": ""
    }
   },
   "source": [
    "# Customer Churn Analytics"
   ]
  },
  {
   "cell_type": "markdown",
   "metadata": {
    "application/vnd.databricks.v1+cell": {
     "cellMetadata": {},
     "inputWidgets": {},
     "nuid": "e1916fdb-6089-4b1d-97d1-a3b87273a60b",
     "showTitle": false,
     "tableResultSettingsMap": {},
     "title": ""
    }
   },
   "source": [
    "### Retention Management\n",
    "Databricks Portal - <a href=\"https://www.databricks.com/solutions/accelerators/retention-management\" target=\"_blank\" rel=\"noopener noreferrer\">How to build: Profit-driven retention management</a> \n",
    "\n",
    "Workspace Folder - [solution-accelerators / sa_marketing_and_advertising / churn]($../../../../../../solution-accelerators/sa_marketing_and_advertising/churn) \n",
    "\n",
    "### Subscriber Churn Prediction\n",
    "Databricks Portal - <a href=\"https://www.databricks.com/solutions/accelerators/survivorship-and-churn\" target=\"_blank\" rel=\"noopener noreferrer\">Subscriber Churn Prediction</a> \n",
    "\n",
    "Workspace Folder - [solution-accelerators / sa_marketing_and_advertising / survival]($../../../../../../solution-accelerators/sa_marketing_and_advertising/survival) \n"
   ]
  }
 ],
 "metadata": {
  "application/vnd.databricks.v1+notebook": {
   "computePreferences": null,
   "dashboards": [],
   "environmentMetadata": {
    "base_environment": "",
    "environment_version": "2"
   },
   "inputWidgetPreferences": null,
   "language": "python",
   "notebookMetadata": {
    "pythonIndentUnit": 4
   },
   "notebookName": "resources",
   "widgets": {}
  },
  "language_info": {
   "name": "python"
  }
 },
 "nbformat": 4,
 "nbformat_minor": 0
}
