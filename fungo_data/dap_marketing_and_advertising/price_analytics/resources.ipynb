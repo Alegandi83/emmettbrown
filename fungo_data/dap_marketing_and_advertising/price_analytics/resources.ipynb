{
 "cells": [
  {
   "cell_type": "markdown",
   "metadata": {
    "application/vnd.databricks.v1+cell": {
     "cellMetadata": {},
     "inputWidgets": {},
     "nuid": "fb10c766-ac31-485e-b3dc-6f9d33e720d0",
     "showTitle": false,
     "tableResultSettingsMap": {},
     "title": ""
    }
   },
   "source": [
    "## Price Analytics\n",
    "Databricks Portal - <a href=\"https://www.databricks.com/solutions/accelerators/redkite-pricing-analytics\" target=\"_blank\" rel=\"noopener noreferrer\">Pricing Analytics With Redkite</a> \\\n",
    "\\\n",
    "Workspace Folder - <a href=\"https://notebooks.databricks.com/notebooks/nightly/RCG/redkite-pricing/index.html#redkite-pricing_1.html\" target=\"_blank\" rel=\"noopener noreferrer\">redkite-pricing</a>"
   ]
  }
 ],
 "metadata": {
  "application/vnd.databricks.v1+notebook": {
   "computePreferences": null,
   "dashboards": [],
   "environmentMetadata": {
    "base_environment": "",
    "environment_version": "2"
   },
   "inputWidgetPreferences": null,
   "language": "python",
   "notebookMetadata": {
    "pythonIndentUnit": 4
   },
   "notebookName": "resources",
   "widgets": {}
  },
  "language_info": {
   "name": "python"
  }
 },
 "nbformat": 4,
 "nbformat_minor": 0
}
