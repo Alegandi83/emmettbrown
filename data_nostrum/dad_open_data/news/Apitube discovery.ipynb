{
 "cells": [
  {
   "cell_type": "code",
   "execution_count": 0,
   "metadata": {
    "application/vnd.databricks.v1+cell": {
     "cellMetadata": {
      "byteLimit": 2048000,
      "rowLimit": 10000
     },
     "inputWidgets": {},
     "nuid": "a68b374d-6a0a-4bd5-baf0-682dd38071a6",
     "showTitle": false,
     "tableResultSettingsMap": {},
     "title": ""
    }
   },
   "outputs": [],
   "source": [
    "import requests\n",
    "\n",
    "# news rest api service:  https://apitube.io/\n",
    "# documentation:          https://docs.apitube.io/guides/user-guide/what-is-apitube\n",
    "# response structure:     https://docs.apitube.io/platform/news-api/response-structure\n",
    "# dashboard api key:      https://dashboard.apitube.io/\n",
    "\n",
    "params = {\n",
    "    \"location.name\": \"Milan, Rome\",\n",
    "    \"language.code\": \"it\",\n",
    "    \"ignore.location.name\": \"New York\",\n",
    "    \"api_key\": \"api_live_Ig2aR4SU8KpiCGqIKfFYfMXSZTMvXa3TMUeayrzikSb9k452OoE\"\n",
    "}\n",
    "\n",
    "#url = \"https://api.apitube.io/v1/news/everything\"\n",
    "url = \"https://api.apitube.io/v1/news/everything?location.name=Milan,Rome&language.code=it&api_key=api_live_Ig2aR4SU8KpiCGqIKfFYfMXSZTMvXa3TMUeayrzikSb9k452OoE\"\n",
    "\n",
    "querystring = {\"per_page\": 10, \"api_key\": \"api_live_Ig2aR4SU8KpiCGqIKfFYfMXSZTMvXa3TMUeayrzikSb9k452OoE\"}\n",
    "\n",
    "response = requests.request(\"GET\", url, params=querystring)\n",
    "\n",
    "print(response.text)"
   ]
  },
  {
   "cell_type": "code",
   "execution_count": 0,
   "metadata": {
    "application/vnd.databricks.v1+cell": {
     "cellMetadata": {
      "byteLimit": 2048000,
      "rowLimit": 10000
     },
     "inputWidgets": {},
     "nuid": "364792df-d5d0-48de-bb0c-5fbe0c373f76",
     "showTitle": false,
     "tableResultSettingsMap": {},
     "title": ""
    }
   },
   "outputs": [],
   "source": [
    "data = response.json()\n",
    "display(data)"
   ]
  },
  {
   "cell_type": "code",
   "execution_count": 0,
   "metadata": {
    "application/vnd.databricks.v1+cell": {
     "cellMetadata": {
      "byteLimit": 2048000,
      "rowLimit": 10000
     },
     "inputWidgets": {},
     "nuid": "86ed0b15-3cc2-4596-8bb2-91fb8ce61532",
     "showTitle": false,
     "tableResultSettingsMap": {
      "0": {
       "dataGridStateBlob": "{\"version\":1,\"tableState\":{\"columnPinning\":{\"left\":[\"#row_number#\"],\"right\":[]},\"columnSizing\":{},\"columnVisibility\":{}},\"settings\":{\"columns\":{\"href\":{\"format\":{\"preset\":\"string-preset-url\"}},\"image\":{\"format\":{\"preset\":\"string-preset-url\"}}}},\"syncTimestamp\":1760853985718}",
       "filterBlob": null,
       "queryPlanFiltersBlob": null,
       "tableResultIndex": 0
      }
     },
     "title": ""
    }
   },
   "outputs": [],
   "source": [
    "import pandas as pd\n",
    "\n",
    "# Estrazione delle informazioni principali dagli articoli\n",
    "articles = []\n",
    "for article in data.get(\"results\", []):\n",
    "    articles.append({\n",
    "        \"id\": article.get(\"id\"),\n",
    "        \"href\": article.get(\"href\"),\n",
    "        \"published_at\": article.get(\"published_at\"),\n",
    "        \"title\": article.get(\"title\"),\n",
    "        \"description\": article.get(\"description\"),\n",
    "        \"body\": article.get(\"body\"),\n",
    "        \"excerpt\": article.get(\"excerpt\"),\n",
    "        \"language\": article.get(\"language\"),\n",
    "        \"sentiment\": article.get(\"sentiment\"),\n",
    "        \"categories\": article.get(\"categories\"),\n",
    "        \"topics\": article.get(\"topics\"),\n",
    "        \"industries\": article.get(\"industries\"),\n",
    "        \"entities\": article.get(\"entities\"),\n",
    "        \"persons\": article.get(\"persons\"),\n",
    "        \"locations\": article.get(\"locations\"),\n",
    "        \"organizations\": article.get(\"organizations\"),\n",
    "        \"brands\": article.get(\"brands\"),\n",
    "        \"author_id\": article.get(\"author\", {}).get(\"id\") if article.get(\"author\") else None,\n",
    "        \"author_name\": article.get(\"author\", {}).get(\"name\") if article.get(\"author\") else None,\n",
    "        \"author_href\": article.get(\"author\", {}).get(\"href\") if article.get(\"author\") else None,\n",
    "        \"image\": article.get(\"image\"),\n",
    "        \"images\": article.get(\"images\"),  # Collezione immagini\n",
    "        \"media\": article.get(\"media\"),\n",
    "        \"is_duplicate\": article.get(\"is_duplicate\"),\n",
    "        \"is_paywall\": article.get(\"is_paywall\"),\n",
    "        \"is_breaking\": article.get(\"is_breaking\"),\n",
    "        \"source_id\": article.get(\"source\", {}).get(\"id\") if article.get(\"source\") else None,\n",
    "        \"source_name\": article.get(\"source\", {}).get(\"name\") if article.get(\"source\") else None,\n",
    "        \"source_href\": article.get(\"source\", {}).get(\"href\") if article.get(\"source\") else None,\n",
    "        \"source_rank\": article.get(\"source\", {}).get(\"rank\") if article.get(\"source\") else None,\n",
    "        \"source_categories\": article.get(\"source\", {}).get(\"categories\") if article.get(\"source\") else None,\n",
    "        \"source_location\": article.get(\"source\", {}).get(\"location\") if article.get(\"source\") else None,\n",
    "        \"keywords\": article.get(\"keywords\"),\n",
    "        \"paywall_url\": article.get(\"paywall_url\"),\n",
    "        \"canonical_url\": article.get(\"canonical_url\")\n",
    "        # Aggiungi qui eventuali altri campi citati nella documentazione specifica\n",
    "    })\n",
    "\n",
    "# Da Pandas a Spark DataFrame (Databricks)\n",
    "pdf = pd.DataFrame(articles)\n",
    "df = spark.createDataFrame(pdf)\n",
    "\n",
    "# Mostra un esempio\n",
    "display(df)"
   ]
  },
  {
   "cell_type": "code",
   "execution_count": 0,
   "metadata": {
    "application/vnd.databricks.v1+cell": {
     "cellMetadata": {
      "byteLimit": 2048000,
      "rowLimit": 10000
     },
     "inputWidgets": {},
     "nuid": "f575a20a-3d06-46ab-a593-d3982c7e78ea",
     "showTitle": false,
     "tableResultSettingsMap": {},
     "title": ""
    }
   },
   "outputs": [],
   "source": [
    "df.printSchema()"
   ]
  }
 ],
 "metadata": {
  "application/vnd.databricks.v1+notebook": {
   "computePreferences": {
    "hardware": {
     "accelerator": null,
     "gpuPoolId": null,
     "memory": null
    }
   },
   "dashboards": [],
   "environmentMetadata": {
    "base_environment": "",
    "environment_version": "4"
   },
   "inputWidgetPreferences": null,
   "language": "python",
   "notebookMetadata": {
    "mostRecentlyExecutedCommandWithImplicitDF": {
     "commandId": 8502414096082990,
     "dataframes": [
      "_sqldf"
     ]
    },
    "pythonIndentUnit": 4
   },
   "notebookName": "Apitube discovery",
   "widgets": {}
  },
  "language_info": {
   "name": "python"
  }
 },
 "nbformat": 4,
 "nbformat_minor": 0
}
