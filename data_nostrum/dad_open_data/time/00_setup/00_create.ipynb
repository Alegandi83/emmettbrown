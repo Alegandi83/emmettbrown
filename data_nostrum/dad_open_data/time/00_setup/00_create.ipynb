{
 "cells": [
  {
   "cell_type": "code",
   "execution_count": 0,
   "metadata": {
    "application/vnd.databricks.v1+cell": {
     "cellMetadata": {},
     "inputWidgets": {},
     "nuid": "887db04b-8b2f-4508-8d38-c84b4a393734",
     "showTitle": false,
     "tableResultSettingsMap": {},
     "title": ""
    }
   },
   "outputs": [],
   "source": [
    "%sql\n",
    "CREATE OR REPLACE TABLE temporal_dimension (\n",
    "  year INT,\n",
    "  month INT,\n",
    "  day INT,\n",
    "  quarter INT,\n",
    "  week_of_year INT,\n",
    "  day_of_week INT,\n",
    "  day_name STRING,\n",
    "  month_name STRING,\n",
    "  iso_date STRING,\n",
    "  is_leap_year BOOLEAN,\n",
    "  is_weekend BOOLEAN\n",
    ");\n",
    "\n",
    "INSERT INTO temporal_dimension\n",
    "SELECT\n",
    "  y AS year,\n",
    "  m AS month,\n",
    "  d AS day,\n",
    "  CEIL(m / 3.0) AS quarter,\n",
    "  weekofyear(TO_DATE(LPAD(CASE WHEN y < 1 THEN 1 ELSE y END, 4, '0') || '-' || LPAD(m,2,'0') || '-' || LPAD(d,2,'0'))) AS week_of_year,\n",
    "  dayofweek(TO_DATE(LPAD(CASE WHEN y < 1 THEN 1 ELSE y END, 4, '0') || '-' || LPAD(m,2,'0') || '-' || LPAD(d,2,'0'))) AS day_of_week,\n",
    "  date_format(TO_DATE(LPAD(CASE WHEN y < 1 THEN 1 ELSE y END, 4, '0') || '-' || LPAD(m,2,'0') || '-' || LPAD(d,2,'0')), 'EEEE') AS day_name,\n",
    "  date_format(TO_DATE(LPAD(CASE WHEN y < 1 THEN 1 ELSE y END, 4, '0') || '-' || LPAD(m,2,'0') || '-' || LPAD(d,2,'0')), 'MMMM') AS month_name,\n",
    "  CASE \n",
    "    WHEN y < 1 THEN LPAD(ABS(y)+1, 4, '0') || '-' || LPAD(m,2,'0') || '-' || LPAD(d,2,'0') || ' BC'\n",
    "    ELSE LPAD(y, 4, '0') || '-' || LPAD(m,2,'0') || '-' || LPAD(d,2,'0')\n",
    "  END AS iso_date,\n",
    "  CASE \n",
    "    WHEN (y > 0 AND ((y % 4 = 0 AND y % 100 != 0) OR (y % 400 = 0))) THEN TRUE\n",
    "    ELSE FALSE\n",
    "  END AS is_leap_year,\n",
    "  CASE \n",
    "    WHEN dayofweek(TO_DATE(LPAD(CASE WHEN y < 1 THEN 1 ELSE y END, 4, '0') || '-' || LPAD(m,2,'0') || '-' || LPAD(d,2,'0'))) IN (1,7) THEN TRUE\n",
    "    ELSE FALSE\n",
    "  END AS is_weekend\n",
    "FROM (\n",
    "  SELECT\n",
    "    y,\n",
    "    m,\n",
    "    d\n",
    "  FROM\n",
    "    (\n",
    "      SELECT explode(sequence(-3999, 3000)) AS y\n",
    "    ) years\n",
    "    CROSS JOIN (\n",
    "      SELECT explode(sequence(1, 12)) AS m\n",
    "    ) months\n",
    "    CROSS JOIN (\n",
    "      SELECT explode(sequence(1, 31)) AS d\n",
    "    ) days\n",
    "  WHERE\n",
    "    -- Filter out invalid dates\n",
    "    (m IN (1,3,5,7,8,10,12) AND d <= 31)\n",
    "    OR (m IN (4,6,9,11) AND d <= 30)\n",
    "    OR (m = 2 AND d <= \n",
    "      CASE \n",
    "        WHEN (y > 0 AND ((y % 4 = 0 AND y % 100 != 0) OR (y % 400 = 0))) THEN 29\n",
    "        ELSE 28\n",
    "      END\n",
    "    )\n",
    ");"
   ]
  }
 ],
 "metadata": {
  "application/vnd.databricks.v1+notebook": {
   "computePreferences": null,
   "dashboards": [],
   "environmentMetadata": {
    "base_environment": "",
    "environment_version": "2"
   },
   "inputWidgetPreferences": null,
   "language": "python",
   "notebookMetadata": {
    "pythonIndentUnit": 4
   },
   "notebookName": "00_create",
   "widgets": {}
  },
  "language_info": {
   "name": "python"
  }
 },
 "nbformat": 4,
 "nbformat_minor": 0
}
